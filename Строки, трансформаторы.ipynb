{
 "cells": [
  {
   "cell_type": "markdown",
   "metadata": {},
   "source": [
    "# Работа со строками "
   ]
  },
  {
   "cell_type": "raw",
   "metadata": {},
   "source": [
    "upper() - ИЗМЕНИТЬ РЕГИСТР НА ВЕРХНИЙ\n",
    "lower() - изменить регистр на нижний\n",
    "capitalize() - Первая буква - большая\n",
    "swapcase() - инверт регистра\n",
    "title() - Каждая Буква (первая) - Большая\n",
    "strip() - Совместитьвсеслова\n",
    "replace(old, new, max) - Заменить что-то"
   ]
  },
  {
   "cell_type": "code",
   "execution_count": 5,
   "metadata": {},
   "outputs": [
    {
     "name": "stdout",
     "output_type": "stream",
     "text": [
      "DANIL danil Daniil\n"
     ]
    }
   ],
   "source": [
    "name = \"Danil\"\n",
    "print(name.upper(),name.lower(),name.replace(\"Danil\",\"Daniil\"))"
   ]
  },
  {
   "cell_type": "markdown",
   "metadata": {},
   "source": [
    "# Трансформаторы"
   ]
  },
  {
   "cell_type": "raw",
   "metadata": {},
   "source": [
    "int() - конвертация в число\n",
    "str() - конвертация в строку\n",
    "float() - конвертация в дробное число"
   ]
  },
  {
   "cell_type": "code",
   "execution_count": 12,
   "metadata": {},
   "outputs": [
    {
     "name": "stdout",
     "output_type": "stream",
     "text": [
      "Введите число: 3\n",
      "Введите слово: Привет\n",
      "num1 - <class 'str'>\n",
      "str1 - <class 'str'>\n",
      "numtransformer - <class 'int'>\n",
      "3 * 5 = 15\n",
      "Ваше слово вывелось 3 раз: ПриветПриветПривет\n"
     ]
    }
   ],
   "source": [
    "num1 = input(\"Введите число: \")\n",
    "str1 = input(\"Введите слово: \")\n",
    "\n",
    "print(\"num1 -\", type(num1))\n",
    "print(\"str1 -\", type(str1))\n",
    "\n",
    "numtransformer = int(num1)\n",
    "print(\"numtransformer -\", type(numtransformer))\n",
    "\n",
    "print(num1 + \" * 5 =\", numtransformer * 5)\n",
    "\n",
    "print(\"Ваше слово вывелось \"+num1+\" раз: \"+ str1 * numtransformer )"
   ]
  }
 ],
 "metadata": {
  "kernelspec": {
   "display_name": "Python 3",
   "language": "python",
   "name": "python3"
  },
  "language_info": {
   "codemirror_mode": {
    "name": "ipython",
    "version": 3
   },
   "file_extension": ".py",
   "mimetype": "text/x-python",
   "name": "python",
   "nbconvert_exporter": "python",
   "pygments_lexer": "ipython3",
   "version": "3.6.8"
  }
 },
 "nbformat": 4,
 "nbformat_minor": 2
}
