{
 "cells": [
  {
   "cell_type": "markdown",
   "metadata": {},
   "source": [
    "# Функции"
   ]
  },
  {
   "cell_type": "markdown",
   "metadata": {},
   "source": [
    "***Функции*** нужны для того, чтобы использовать один кусочек кода много раз"
   ]
  },
  {
   "cell_type": "code",
   "execution_count": 5,
   "metadata": {},
   "outputs": [
    {
     "name": "stdout",
     "output_type": "stream",
     "text": [
      "Hello\n"
     ]
    }
   ],
   "source": [
    "# Пример функций\n",
    "def hello():\n",
    "    print(\"Hello\")\n",
    "    \n",
    "\n",
    "    \n",
    "    \n",
    "hello()"
   ]
  },
  {
   "cell_type": "code",
   "execution_count": 10,
   "metadata": {},
   "outputs": [
    {
     "name": "stdout",
     "output_type": "stream",
     "text": [
      "Happy birthday, Viktor. You are 23  now\n",
      "Happy birthday, Kyle. You are 18  now\n",
      "Hello, Dakota\n",
      "Hello, Daniil\n"
     ]
    }
   ],
   "source": [
    "# Позиционные и именованные аргументы функции\n",
    "def happybirthday(name, age):\n",
    "    print(\"Happy birthday, \"+ name + \". You are\", age,\" now\")\n",
    "\n",
    "#Позиционный вызов функции\n",
    "happybirthday(\"Viktor\", 23)\n",
    "# Именованный вызов\n",
    "happybirthday(age = 18, name = \"Kyle\")#Можно вызывать функции указывая аргументы не по порядку,\n",
    "                                      #а просто уточняя имена при вызове функции\n",
    "#Значения по умолчанию\n",
    "def defaultfunc(name = \"Daniil\"):\n",
    "    print(\"Hello, \" + name)\n",
    "\n",
    "defaultfunc(\"Dakota\") #Не используем значение по умолчанию\n",
    "defaultfunc() #Используем значение по умолчанию"
   ]
  },
  {
   "cell_type": "code",
   "execution_count": 23,
   "metadata": {},
   "outputs": [
    {
     "name": "stdout",
     "output_type": "stream",
     "text": [
      "(1) Глобальная переменная равна: 10\n",
      "(2) Глобальная переменная равна: 11\n",
      "12, добавили к переменной единицу вне функции\n",
      "Теневая переменная равна: 20\n",
      "12\n"
     ]
    }
   ],
   "source": [
    "# Глобальные переменные\n",
    "def globalval():\n",
    "    global cat #Переменная cat теперь глобальная\n",
    "    cat = 10\n",
    "    print(\"(1) Глобальная переменная равна:\", cat)\n",
    "    cat += 1\n",
    "    print(\"(2) Глобальная переменная равна:\", cat)\n",
    "    \n",
    "def shadowglobalval():\n",
    "    cat = 20\n",
    "    print(\"Теневая переменная равна:\", cat)\n",
    "globalval()\n",
    "cat += 1\n",
    "print(cat, end='')\n",
    "print(\", добавили к переменной единицу вне функции\")\n",
    "\n",
    "#Однако можно создать \"теневую\" переменную\n",
    "shadowglobalval()\n",
    "print(cat)\n",
    "#Как видим, переменная cat не изменилась, а всё потому что в функции shadowglobalval() переменная cat - локальная"
   ]
  }
 ],
 "metadata": {
  "kernelspec": {
   "display_name": "Python 3",
   "language": "python",
   "name": "python3"
  },
  "language_info": {
   "codemirror_mode": {
    "name": "ipython",
    "version": 3
   },
   "file_extension": ".py",
   "mimetype": "text/x-python",
   "name": "python",
   "nbconvert_exporter": "python",
   "pygments_lexer": "ipython3",
   "version": "3.6.8"
  }
 },
 "nbformat": 4,
 "nbformat_minor": 2
}
