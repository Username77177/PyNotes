{
 "cells": [
  {
   "cell_type": "markdown",
   "metadata": {},
   "source": [
    "# Random "
   ]
  },
  {
   "cell_type": "code",
   "execution_count": 31,
   "metadata": {},
   "outputs": [
    {
     "name": "stdout",
     "output_type": "stream",
     "text": [
      "1\n"
     ]
    }
   ],
   "source": [
    "import random as r\n",
    "fromm = 1\n",
    "to =10\n",
    "randomnum = r.randint(fromm, to)\n",
    "print(randomnum)"
   ]
  },
  {
   "cell_type": "raw",
   "metadata": {},
   "source": [
    "Как показано выше, random - модуль, для генерации случайностей. randint() - генерация случайных чисел, где первый аргумент и второй - от и до (включительно, оба)."
   ]
  },
  {
   "cell_type": "code",
   "execution_count": 50,
   "metadata": {},
   "outputs": [
    {
     "name": "stdout",
     "output_type": "stream",
     "text": [
      "Первый кубик: 4\n",
      "Второй кубик: 6\n",
      "Вместе: 10\n"
     ]
    }
   ],
   "source": [
    "#Программа \"Dice\"\n",
    "import random\n",
    "cube1 = random.randint(1,6)\n",
    "cube2 = random.randint(1,6)\n",
    "print(\"Первый кубик: \"+str(cube1)+\"\\nВторой кубик: \"+str(cube2)+\"\\nВместе:\", cube1+cube2 )"
   ]
  },
  {
   "cell_type": "markdown",
   "metadata": {},
   "source": [
    "# Конструкция if "
   ]
  },
  {
   "cell_type": "raw",
   "metadata": {},
   "source": [
    "Конструкция if дословно переводится как \"если\". Если что-то правда, то.."
   ]
  },
  {
   "cell_type": "code",
   "execution_count": 55,
   "metadata": {},
   "outputs": [
    {
     "name": "stdout",
     "output_type": "stream",
     "text": [
      "Incredible!\n"
     ]
    }
   ],
   "source": [
    "myname = \"Daniil\"\n",
    "if myname == \"Daniil\":\n",
    "    print(\"Incredible!\")\n",
    "else:\n",
    "    print(\"Эта строка не выведется, пока вы не смените имя\")"
   ]
  },
  {
   "cell_type": "code",
   "execution_count": 71,
   "metadata": {},
   "outputs": [
    {
     "name": "stdout",
     "output_type": "stream",
     "text": [
      "Введите пароль: password\n",
      "b'cGFzc3dvcmQ='\n",
      "Введите тот же пароль, или нетpassword\n",
      "b'cGFzc3dvcmQ='\n",
      "Your password in base64: b'cGFzc3dvcmQ='\n",
      "Расшифрованный пароль: password\n"
     ]
    }
   ],
   "source": [
    "#Password by username77177\n",
    "import base64 as b64 #Не обращайте внимания \\ ignore it\n",
    "import random\n",
    "\n",
    "password = input(\"Введите пароль: \")\n",
    "password = b64.b64encode(password.encode())\n",
    "print(password)\n",
    "\n",
    "anotherpassword = input(\"Введите тот же пароль, или нет\")\n",
    "anotherpassword = b64.b64encode(anotherpassword.encode())\n",
    "\n",
    "print(anotherpassword)\n",
    "\n",
    "if password == anotherpassword:\n",
    "    print(\"Your password in base64: \" + str(password))\n",
    "    password = b64.b64decode(password)\n",
    "    password = str(password).replace(\"b\",\"\",1).replace(\"'\",\"\")\n",
    "    print(\"Расшифрованный пароль: \" + str(password))\n",
    "else:\n",
    "    print(\"Access denied, go, try it again\")"
   ]
  },
  {
   "cell_type": "markdown",
   "metadata": {},
   "source": [
    "# While"
   ]
  },
  {
   "cell_type": "code",
   "execution_count": null,
   "metadata": {},
   "outputs": [],
   "source": []
  }
 ],
 "metadata": {
  "kernelspec": {
   "display_name": "Python 3",
   "language": "python",
   "name": "python3"
  },
  "language_info": {
   "codemirror_mode": {
    "name": "ipython",
    "version": 3
   },
   "file_extension": ".py",
   "mimetype": "text/x-python",
   "name": "python",
   "nbconvert_exporter": "python",
   "pygments_lexer": "ipython3",
   "version": "3.6.8"
  }
 },
 "nbformat": 4,
 "nbformat_minor": 2
}
