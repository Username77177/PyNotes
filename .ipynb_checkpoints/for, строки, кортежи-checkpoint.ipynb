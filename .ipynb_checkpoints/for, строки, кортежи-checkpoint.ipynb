{
 "cells": [
  {
   "cell_type": "markdown",
   "metadata": {},
   "source": [
    "# Кортежи, строки, for"
   ]
  },
  {
   "cell_type": "raw",
   "metadata": {},
   "source": [
    "Начнём с for и ключевого слова not\n",
    "Синтакс: for переменная in то, что будет в переменной\n",
    "for - цикл, который перебирает элементы в слове, кортеже, списке, массиве.\n",
    "\n",
    "not - это обратное значение. В языке существуют две логические переменные True и False.\n",
    "not True = False\n",
    "not False = True\n",
    "Думаю тут ясно.\n",
    "False = 0 или пустое значение \"\", (), [], {}\n",
    "Всё остальное - True"
   ]
  },
  {
   "cell_type": "code",
   "execution_count": 15,
   "metadata": {},
   "outputs": [
    {
     "name": "stdout",
     "output_type": "stream",
     "text": [
      "0\n",
      "1\n",
      "2\n",
      "3\n",
      "4\n",
      "5\n",
      "6\n",
      "7\n",
      "8\n",
      "9\n",
      "9\n"
     ]
    }
   ],
   "source": [
    "#Демонстрация функции range()\n",
    "#range() возвращает список чисел\n",
    "#range(от, до, шаг)\n",
    "i = None\n",
    "for i in range(0,10):\n",
    "    print(i) #Пишется число\n",
    "\n",
    "print(i)"
   ]
  },
  {
   "cell_type": "markdown",
   "metadata": {},
   "source": [
    "Как мы видим значение i сохранилось и после цикла\n",
    "\n",
    "***None*** - значение, которое в Python3 заменяет пустоту. В переменной ничего нет."
   ]
  },
  {
   "cell_type": "code",
   "execution_count": 23,
   "metadata": {},
   "outputs": [
    {
     "name": "stdout",
     "output_type": "stream",
     "text": [
      "nice = Not True and False\n",
      "Но, если мы напишем такое условие, то оно выполнится\n",
      "Nice!\n"
     ]
    }
   ],
   "source": [
    "nice = None\n",
    "if nice == True:\n",
    "    print(True)\n",
    "elif nice == False:\n",
    "    print(False)\n",
    "else:\n",
    "    print(\"nice = Not True and False\")\n",
    "print(\"Но, если мы напишем такое условие, то оно выполнится\") #Блок 2\n",
    "if not nice:\n",
    "    print(\"Nice!\")"
   ]
  },
  {
   "cell_type": "raw",
   "metadata": {},
   "source": [
    "Что же случилось во 2-м блоке?\n",
    "Дело в том, что условие выполнится, только если nice == True\n",
    "not nice == всё что угодно, кроме True"
   ]
  },
  {
   "cell_type": "markdown",
   "metadata": {},
   "source": [
    "# Кортежи"
   ]
  },
  {
   "cell_type": "markdown",
   "metadata": {},
   "source": [
    "**Кортежи** - списки, в которых может лежать всё, что угодно."
   ]
  },
  {
   "cell_type": "code",
   "execution_count": 26,
   "metadata": {},
   "outputs": [
    {
     "name": "stdout",
     "output_type": "stream",
     "text": [
      "3\n",
      "niceMan\n",
      "1\n",
      "3\n"
     ]
    }
   ],
   "source": [
    "coolMan = (3,\"niceMan\",1)\n",
    "for k in coolMan:\n",
    "    print(k)\n",
    "#Как мы видим, лежать может, действительно, всё что угодно\n",
    "print(coolMan[0]) #Также стоит отметить, что счёт индексов начинается с 0, а не с 1"
   ]
  },
  {
   "cell_type": "raw",
   "metadata": {},
   "source": [
    "Кортежи как и строки, их также можно нарезать"
   ]
  },
  {
   "cell_type": "code",
   "execution_count": 31,
   "metadata": {},
   "outputs": [
    {
     "name": "stdout",
     "output_type": "stream",
     "text": [
      "fghjkl\n",
      "dfghjkl\n",
      "asd\n",
      "(71, 32)\n",
      "(71, 32, 'username77177')\n",
      "('myname', 'yourname')\n"
     ]
    }
   ],
   "source": [
    "wordkeyboard2 = \"asdfghjkl\"\n",
    "print(wordkeyboard2[3:9])\n",
    "print(wordkeyboard2[2:])\n",
    "print(wordkeyboard2[:3])\n",
    "\n",
    "elf = (\"myname\", \"yourname\",17,71,32,\"username77177\")\n",
    "print(elf[3:5])\n",
    "print(elf[3:])\n",
    "print(elf[:2])"
   ]
  }
 ],
 "metadata": {
  "kernelspec": {
   "display_name": "Python 3",
   "language": "python",
   "name": "python3"
  },
  "language_info": {
   "codemirror_mode": {
    "name": "ipython",
    "version": 3
   },
   "file_extension": ".py",
   "mimetype": "text/x-python",
   "name": "python",
   "nbconvert_exporter": "python",
   "pygments_lexer": "ipython3",
   "version": "3.6.8"
  }
 },
 "nbformat": 4,
 "nbformat_minor": 2
}
