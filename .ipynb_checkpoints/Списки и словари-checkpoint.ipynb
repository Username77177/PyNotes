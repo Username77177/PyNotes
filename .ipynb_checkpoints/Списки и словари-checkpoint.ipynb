{
 "cells": [
  {
   "cell_type": "markdown",
   "metadata": {},
   "source": [
    "# Списки\n",
    "**Списки** - почти то же самое, что и кортежи, только их можно изменять\n",
    "```python\n",
    "#syntax: \n",
    "full = [\"\",\"\",\"\"]\n",
    "```\n",
    "У списков есть множество функций, рассматривать их будем по ходу"
   ]
  },
  {
   "cell_type": "code",
   "execution_count": 2,
   "metadata": {},
   "outputs": [
    {
     "name": "stdout",
     "output_type": "stream",
     "text": [
      "меч\n",
      "щит\n"
     ]
    }
   ],
   "source": [
    "#Арсенал героя\n",
    "inventory = [\"меч\", \"щит\"]\n",
    "for item in inventory:\n",
    "    print(item)"
   ]
  },
  {
   "cell_type": "code",
   "execution_count": 3,
   "metadata": {},
   "outputs": [
    {
     "name": "stdout",
     "output_type": "stream",
     "text": [
      "2\n"
     ]
    }
   ],
   "source": [
    "#Длина len() указывает на то, сколько в списке элементов\n",
    "inventory = [\"меч\", \"щит\"]\n",
    "print(len(inventory))"
   ]
  },
  {
   "cell_type": "code",
   "execution_count": 5,
   "metadata": {},
   "outputs": [
    {
     "name": "stdout",
     "output_type": "stream",
     "text": [
      "Hello\n"
     ]
    }
   ],
   "source": [
    "#in работает, как проверка есть ли элемент в списке (кортеже) при условии\n",
    "biology = [\"env\",\"env1\",\"env2\"]\n",
    "if 'env' in biology:\n",
    "    print(\"Hello\")"
   ]
  },
  {
   "cell_type": "markdown",
   "metadata": {},
   "source": [
    "Хорошая возможность списков - *изменение*"
   ]
  },
  {
   "cell_type": "code",
   "execution_count": 10,
   "metadata": {},
   "outputs": [
    {
     "name": "stdout",
     "output_type": "stream",
     "text": [
      "Hello\n",
      "Hi\n",
      "['Hi', 'Hi', 3]\n"
     ]
    }
   ],
   "source": [
    "#Изменение\n",
    "init = [\"Hi\", \"Hello\", 3] #Да, в списки тоже можно ложить и числа, и строки\n",
    "print(inventory[1])\n",
    "init[1] = \"Hi\"\n",
    "print(init[1])\n",
    "print(init)"
   ]
  },
  {
   "cell_type": "code",
   "execution_count": 12,
   "metadata": {},
   "outputs": [
    {
     "name": "stdout",
     "output_type": "stream",
     "text": [
      "['0', '1', '2', '3']\n",
      "['1', '2', '3']\n",
      "1\n"
     ]
    }
   ],
   "source": [
    "#del - удаляет элемент из списка\n",
    "strangerthanme = [\"0\",\"1\",\"2\",\"3\"]\n",
    "print(strangerthanme)\n",
    "del strangerthanme[0]\n",
    "print(strangerthanme)\n",
    "print(strangerthanme[0])"
   ]
  },
  {
   "cell_type": "code",
   "execution_count": 16,
   "metadata": {},
   "outputs": [
    {
     "name": "stdout",
     "output_type": "stream",
     "text": [
      "Введите новое значение: 7000\n",
      "['1000', '2000', '3000', '7000']\n",
      "Введите число, которое нужно удалить: 1000\n",
      "['2000', '3000', '7000']\n"
     ]
    }
   ],
   "source": [
    "#Методы списков\n",
    "barrel = [\"1000\", \"2000\", \"3000\"]\n",
    "integ = input(\"Введите новое значение: \")\n",
    "barrel.append(integ) # Добавление в список элемента\n",
    "print(barrel)\n",
    "integ = input(\"Введите число, которое нужно удалить: \")\n",
    "barrel.remove(integ) # Удаление из списка элемента\n",
    "print(barrel)"
   ]
  },
  {
   "cell_type": "markdown",
   "metadata": {},
   "source": [
    "# Словари\n",
    "\n",
    "***Словари*** - это порядок *Ключ - определение*\n",
    "\n",
    "```python\n",
    "#Пример словаря\n",
    "geek = {\"hello\": \"world\", \"programming lang\": \"Python\", \"myname\": \"username77177\"}\n",
    "```\n"
   ]
  },
  {
   "cell_type": "code",
   "execution_count": 4,
   "metadata": {},
   "outputs": [
    {
     "name": "stdout",
     "output_type": "stream",
     "text": [
      "<class 'int'>\n",
      "{'1': 1, '2': 2, '3': 3}\n",
      "{'1': 10, '2': 2, '3': 3}\n",
      "10\n",
      "None\n"
     ]
    }
   ],
   "source": [
    "strtoint = {\"1\":1,\"2\":2,\"3\":3}\n",
    "print(type(strtoint[\"1\"]))\n",
    "print(strtoint)\n",
    "strtoint[\"1\"] = 10\n",
    "print(strtoint)\n",
    "print(strtoint.get(\"1\")) #Безопасный способ извлечь что-то из словаря. Если метод не найдёт ключа, то вернёт None\n",
    "print(strtoint.get(\"1!\"))"
   ]
  },
  {
   "attachments": {},
   "cell_type": "markdown",
   "metadata": {},
   "source": [
    "# Пример как выглядит программа с использованием списков\n",
    "\n",
    "![carbo code](carbon.png)"
   ]
  }
 ],
 "metadata": {
  "kernelspec": {
   "display_name": "Python 3",
   "language": "python",
   "name": "python3"
  },
  "language_info": {
   "codemirror_mode": {
    "name": "ipython",
    "version": 3
   },
   "file_extension": ".py",
   "mimetype": "text/x-python",
   "name": "python",
   "nbconvert_exporter": "python",
   "pygments_lexer": "ipython3",
   "version": "3.6.8"
  }
 },
 "nbformat": 4,
 "nbformat_minor": 2
}
