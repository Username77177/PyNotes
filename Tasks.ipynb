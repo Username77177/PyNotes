{
 "cells": [
  {
   "cell_type": "markdown",
   "metadata": {},
   "source": [
    "# Tasks from Michael Dawson's book"
   ]
  },
  {
   "cell_type": "markdown",
   "metadata": {},
   "source": [
    "## Chapter 5"
   ]
  },
  {
   "cell_type": "code",
   "execution_count": 11,
   "metadata": {},
   "outputs": [
    {
     "name": "stdout",
     "output_type": "stream",
     "text": [
      "Удивительный\n",
      "Лист\n",
      "Мир\n",
      "Привет\n",
      "Кортеж\n"
     ]
    }
   ],
   "source": [
    "# RandomWords\n",
    "import random\n",
    "words = (\"Привет\",\"Мир\",\"Лист\",\"Кортеж\",\"Удивительный\")\n",
    "oldwords = []\n",
    "k = True\n",
    "while len(oldwords) < 5:\n",
    "    newword = random.choice(words)\n",
    "    if newword not in oldwords:\n",
    "        print(newword)\n",
    "        oldwords.append(newword)"
   ]
  },
  {
   "cell_type": "code",
   "execution_count": 3,
   "metadata": {},
   "outputs": [
    {
     "name": "stdout",
     "output_type": "stream",
     "text": [
      "Список D&S:\n",
      " {'Daniil': None, 'Alex': 'Ruslan', 'Kate': 'Andrei', 'Robby': 'Jim', 'Li': 'Thomas'}\n",
      "Что вы хотите сделать?\n",
      "1.Добавить сына и отца\n",
      "2.Посмотреть существующих\n",
      "3.Удалить сына и отца\n",
      "4.Заменить существующую пару\n",
      "\n",
      ": 1\n",
      "Введите имя сына: Noson\n",
      "Введите имя отца: Noname\n",
      "{'Daniil': None, 'Alex': 'Ruslan', 'Kate': 'Andrei', 'Robby': 'Jim', 'Li': 'Thomas', 'Noson': 'Noname'}\n"
     ]
    }
   ],
   "source": [
    "# Who's your Daddy?\n",
    "#Initialize of dictionary\n",
    "daddyson = {\"Daniil\": None, \"Alex\": \"Ruslan\", \"Kate\": \"Andrei\", \"Robby\": \"Jim\", \"Li\": \"Thomas\"}\n",
    "print(\"Список D&S:\\n\", daddyson)\n",
    "print(\"\"\"Что вы хотите сделать?\n",
    "1.Добавить сына и отца\n",
    "2.Посмотреть существующих\n",
    "3.Удалить сына и отца\n",
    "4.Заменить существующую пару\\n\"\"\")\n",
    "usernamein = input(\": \")\n",
    "if usernamein == \"1\":\n",
    "    son = input(\"Введите имя сына: \")\n",
    "    dad = input(\"Введите имя отца: \")\n",
    "    daddyson[son] = dad\n",
    "elif usernamein == \"2\":\n",
    "    son = input(\"Введите имя сына: \")\n",
    "    doublename = daddyson.get(son)\n",
    "    if doublename == None: # If name doesn't exist\n",
    "        print(\"Такого имени не существует\")\n",
    "    else: print(doublename)\n",
    "elif usernamein == \"3\":\n",
    "    son = input(\"Введите имя сына, пару которого нужно удалить: \")\n",
    "    doublename = daddyson.get(son)\n",
    "    if doublename != None:\n",
    "        del daddyson[son]\n",
    "        print(\"Пара удалена\")\n",
    "    else:\n",
    "        print(\"Такой пары не существует\")\n",
    "elif usernamein == \"4\":\n",
    "    print(\"(1)Заменить отца или (2)пару целиком?\\n\")\n",
    "    usernamein1 = input(\": \")\n",
    "    if usernamein1 == \"1\":\n",
    "        son = input(\"Введите имя сына: \")\n",
    "        newdad = input(\"Введите новое имя отца: \")\n",
    "        daddyson[son] = newdad \n",
    "    else:\n",
    "        son = input(\"Введите имя сына: \")\n",
    "        if son in daddyson: # Checking son in dictionary\n",
    "            del daddyson[son]\n",
    "            newson = input(\"Введите новое имя сына: \")\n",
    "            newdad = input(\"Введите новое имя отца: \")\n",
    "            daddyson[newson] = newdad\n",
    "        else: #If name of this son doesn't in dictionary\n",
    "            print(\"Не удалось найти сына с таким именем\")\n",
    "\n",
    "else:\n",
    "    print(\"Корректно введите цифру\")\n",
    "print(daddyson)"
   ]
  },
  {
   "cell_type": "markdown",
   "metadata": {},
   "source": [
    "## Chapter 6"
   ]
  },
  {
   "cell_type": "markdown",
   "metadata": {},
   "source": [
    "**Доработайте игру из главы 3 так, чтобы в ней нашла применения эта функция:**\n",
    "```python\n",
    "def ask_number(low,high,num):\n",
    "    response1 = None\n",
    "    while response1 not in range(low,high):\n",
    "        response1 = input(\"-- \")\n",
    "    return response1\n",
    "```"
   ]
  },
  {
   "cell_type": "code",
   "execution_count": 8,
   "metadata": {},
   "outputs": [
    {
     "name": "stdout",
     "output_type": "stream",
     "text": [
      "4\n",
      "Привет! Попробуй угадать число от 0 до 30\n",
      "-- 2\n",
      "Твое число слишком маленькое\n",
      "-- 5\n",
      "Твоё число слишком большое\n",
      "-- 3\n",
      "Твое число слишком маленькое\n",
      "-- 4\n",
      "Ты выиграл!\n"
     ]
    }
   ],
   "source": [
    "#Guess the number\n",
    "from random import randint\n",
    "rangeint = randint(0,30) #0-30\n",
    "print(\"Привет! Попробуй угадать число от 0 до 30\")\n",
    "guess = 1000\n",
    "while guess != rangeint:\n",
    "    guess = input(\"-- \")\n",
    "    if int(guess) < rangeint:\n",
    "        print(\"Твое число слишком маленькое\")\n",
    "    elif int(guess) > rangeint:\n",
    "        print(\"Твоё число слишком большое\")\n",
    "    else:\n",
    "        print(\"Ты выиграл!\")\n",
    "        break"
   ]
  },
  {
   "cell_type": "code",
   "execution_count": 12,
   "metadata": {},
   "outputs": [
    {
     "name": "stdout",
     "output_type": "stream",
     "text": [
      "3\n",
      "Введите число: \n",
      "-- 2\n",
      "Твое число слишком маленькое\n",
      "Введите число: \n",
      "-- 4\n",
      "Твоё число слишком большое\n",
      "Введите число: \n",
      "-- 3\n",
      "Ты выиграл!\n"
     ]
    }
   ],
   "source": [
    "# Extented Guess the Number by $Username77177\n",
    "import random\n",
    "def ask_number(low,high):\n",
    "    response1 = None\n",
    "    print(\"Введите число: \")\n",
    "    while response1 not in range(low,high):\n",
    "        response1 = int(input(\"-- \"))\n",
    "    return response1\n",
    "random = random.randint(0,30)\n",
    "print(random)##\n",
    "guess = None\n",
    "while guess != random:\n",
    "    guess = ask_number(0,30)\n",
    "    if int(guess) < random:\n",
    "        print(\"Твое число слишком маленькое\")\n",
    "    elif int(guess) > random:\n",
    "        print(\"Твоё число слишком большое\")\n",
    "    else:\n",
    "        print(\"Ты выиграл!\")\n",
    "        break\n",
    "        "
   ]
  },
  {
   "cell_type": "code",
   "execution_count": null,
   "metadata": {},
   "outputs": [],
   "source": []
  }
 ],
 "metadata": {
  "kernelspec": {
   "display_name": "Python 3",
   "language": "python",
   "name": "python3"
  },
  "language_info": {
   "codemirror_mode": {
    "name": "ipython",
    "version": 3
   },
   "file_extension": ".py",
   "mimetype": "text/x-python",
   "name": "python",
   "nbconvert_exporter": "python",
   "pygments_lexer": "ipython3",
   "version": "3.6.8"
  }
 },
 "nbformat": 4,
 "nbformat_minor": 2
}
