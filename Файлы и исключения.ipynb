{
 "cells": [
  {
   "cell_type": "markdown",
   "metadata": {},
   "source": [
    "#  Файлы"
   ]
  },
  {
   "cell_type": "markdown",
   "metadata": {},
   "source": [
    "***Для того чтобы приведённые ниже скрипты работали, вне этого файла написан документ формата .txt с текстом***"
   ]
  },
  {
   "cell_type": "markdown",
   "metadata": {},
   "source": [
    "## Чтение файлов"
   ]
  },
  {
   "cell_type": "code",
   "execution_count": 4,
   "metadata": {},
   "outputs": [
    {
     "name": "stdout",
     "output_type": "stream",
     "text": [
      "String 1\n",
      "Строка 2\n",
      "Very long string, Very long string, Very long string, Very long string, Very long string\n",
      "Prepare to code!\n",
      "\n",
      "\n"
     ]
    }
   ],
   "source": [
    "textfile = open(\"./string.txt\", \"r\", encoding=\"utf-8\") #Открываем файл\n",
    "print(textfile.read()) #Читаем его\n",
    "textfile.close() #Закрываем файл"
   ]
  },
  {
   "cell_type": "code",
   "execution_count": 15,
   "metadata": {},
   "outputs": [
    {
     "name": "stdout",
     "output_type": "stream",
     "text": [
      "Strin\n",
      "g\n",
      "1\n",
      "С\n",
      "т\n",
      "р\n",
      "\n",
      "\n",
      "\n",
      "\n",
      "S\n",
      "t\n",
      "r\n",
      "i\n",
      "n\n",
      "g\n",
      "1\n"
     ]
    }
   ],
   "source": [
    "textfile = open(\"./string.txt\", \"r\")\n",
    "print(textfile.read(5)) #Вывести определённое количество символов\n",
    "file = textfile.read(7) #Первая строка\n",
    "for i in file:\n",
    "    if i == \" \":\n",
    "        continue\n",
    "    elif i == \"\\n\":\n",
    "        continue\n",
    "    print(i)\n",
    "    \n",
    "# Python останавливается на том, что он уже прочёл\n",
    "#Чтобы исправить это нужно закрыть и снова открыть файл\n",
    "textfile.close()\n",
    "print('''\n",
    "\n",
    "\n",
    "''')\n",
    "#######################################################\n",
    "textfile = open(\"./string.txt\", \"r\")\n",
    "file = textfile.read(8) #Первая строка\n",
    "for i in file:\n",
    "    if i == \" \":\n",
    "        continue\n",
    "    print(i)\n",
    "textfile.close()"
   ]
  },
  {
   "cell_type": "markdown",
   "metadata": {},
   "source": [
    "```python\n",
    "file.readline() - чтобы прочитать строку\n",
    "file.readlines() - помещает все строки в список\n",
    "```"
   ]
  },
  {
   "cell_type": "markdown",
   "metadata": {},
   "source": [
    "## Запись в файл\n",
    "Запись осуществляется методом ```write()```, при этом стоит указать при открытии файла во втором аргументе **\"w\"**"
   ]
  },
  {
   "cell_type": "code",
   "execution_count": 24,
   "metadata": {},
   "outputs": [
    {
     "name": "stdout",
     "output_type": "stream",
     "text": [
      "Новая строка\n"
     ]
    }
   ],
   "source": [
    "filenew = open(\"newfile.txt\", \"w\") #Открываем файл для записи\n",
    "filenew.write(\"Новая строка\") #Пишем новую строку\n",
    "filenew.close() #Закрываем файл, а после открываем для чтения\n",
    "file = open(\"newfile.txt\", \"r\")\n",
    "print(file.read())"
   ]
  },
  {
   "cell_type": "code",
   "execution_count": 37,
   "metadata": {},
   "outputs": [],
   "source": [
    "# Эта программа просто удаляет файл и не относится к текущему уроку\n",
    "import os\n",
    "os.remove(\"./newfile.txt\")"
   ]
  },
  {
   "cell_type": "code",
   "execution_count": 36,
   "metadata": {},
   "outputs": [
    {
     "name": "stdout",
     "output_type": "stream",
     "text": [
      "['String 1\\n', 'Строка 2\\n', 'Very long string, Very long string, Very long string, Very long string, Very long string\\n', 'Prepare to code!\\n', '\\n']\n",
      "String 1\n",
      "Строка 2\n",
      "Very long string, Very long string, Very long string, Very long string, Very long string\n",
      "Prepare to code!\n",
      "\n",
      "String 1\n",
      "Строка 2\n",
      "Very long string, Very long string, Very long string, Very long string, Very long string\n",
      "Prepare to code!\n",
      "\n",
      "\n"
     ]
    }
   ],
   "source": [
    "#Метод writelines() позволяет записать список в текстовый файл\n",
    "#Возьмем массив строк из готового файла string.txt и запишем его в новый файл\n",
    "string = open(\"./string.txt\",\"r\")\n",
    "stringcopytool = string.readlines()\n",
    "print(stringcopytool)\n",
    "string.close()\n",
    "\n",
    "pastefile3 = open(\"./newfile.txt\",\"w\") #w+ - запись и чтение (если файла нет, то будет создан);\n",
    "pastefile3.writelines(stringcopytool)  #r+ - чтение и запись (если файла нет, то python выведет ошибку)\n",
    "pastefile3.close()\n",
    "\n",
    "pastefile3 = open(\"./newfile.txt\", \"r\")\n",
    "print(pastefile3.read())"
   ]
  },
  {
   "cell_type": "markdown",
   "metadata": {},
   "source": [
    "## Консервация файлов в бинарные файлы"
   ]
  },
  {
   "cell_type": "markdown",
   "metadata": {},
   "source": [
    "```python\n",
    "import pickle, shelve\n",
    "```\n",
    "***pickle*** - используется для консервации (сжатия) файлов в двоичные файлы\n",
    "\n",
    "***shelve*** - используется для произвольного доступа к объектам в законсервированном файле"
   ]
  },
  {
   "cell_type": "code",
   "execution_count": 44,
   "metadata": {},
   "outputs": [
    {
     "name": "stdout",
     "output_type": "stream",
     "text": [
      "Создаём списки:\n",
      " ['listwithnew', 'new', 'new1', 'new2'] \n",
      " ['listwithnicknames', 'Daniil', 'user', 'Username77177', '$Username77177']\n"
     ]
    }
   ],
   "source": [
    "import pickle, shelve\n",
    "list1 = [\"listwithnew\", \"new\", \"new1\", \"new2\"]\n",
    "list2 = [\"listwithnicknames\", \"Daniil\", \"user\", \"Username77177\", \"$Username77177\"]\n",
    "print(\"Создаём списки:\\n\", list1, \"\\n\", list2)\n",
    "f = open(\"PickleR\",\"wb\")\n",
    "pickle.dump(list1, f) #pickle.dump() - консервирует файлы в бинарные\n",
    "pickle.dump(list2, f) #(pickle - огурец, который можно законсервировать)\n",
    "f.close()"
   ]
  },
  {
   "cell_type": "markdown",
   "metadata": {},
   "source": [
    "## Расконсервация данных из файла"
   ]
  },
  {
   "cell_type": "code",
   "execution_count": 61,
   "metadata": {},
   "outputs": [
    {
     "name": "stdout",
     "output_type": "stream",
     "text": [
      "Распаковываю данные\n",
      "Распаковал!\n",
      " ['listwithnew', 'new', 'new1', 'new2'] \n",
      " ['listwithnicknames', 'Daniil', 'user', 'Username77177', '$Username77177']\n"
     ]
    }
   ],
   "source": [
    "import pickle\n",
    "print(\"Распаковываю данные\")\n",
    "file = open(\"PickleR\",\"rb\")\n",
    "first = pickle.load(file)\n",
    "second = pickle.load(file)\n",
    "print(\"Распаковал!\")\n",
    "print(\"\",first, \"\\n\", second)"
   ]
  },
  {
   "cell_type": "markdown",
   "metadata": {},
   "source": [
    "## Создание \"полки\" для произвольного доступа к данным"
   ]
  },
  {
   "cell_type": "code",
   "execution_count": 82,
   "metadata": {},
   "outputs": [
    {
     "name": "stdout",
     "output_type": "stream",
     "text": [
      "['Shelveisworking?', 'Yea', \"Let's encrypt files!\"]\n"
     ]
    }
   ],
   "source": [
    "import shelve, os\n",
    "##Заранее удаляем прошлую полку\n",
    "os.remove(\"./ShelveR\")\n",
    "#Во избежание ошибок полку надо закрывать. Обязательно!\n",
    "sh = shelve.open(\"ShelveR\") #По умолчанию второй аргумент \"c\"\n",
    "# (Мы можем открывать файл для чтения и записи)\n",
    "# Открывает полку, куда мы можем спокойно ложить списки данных, и она сразу будет их шифровать\n",
    "sh[\"new\"] = [\"Shelveisworking?\",\"Yea\",\"Let's encrypt files!\"]\n",
    "sh.sync() #Сохраняет полку\n",
    "print(sh[\"new\"])\n",
    "sh.close()"
   ]
  },
  {
   "cell_type": "markdown",
   "metadata": {},
   "source": [
    "## Обработка ошибок с try и except"
   ]
  },
  {
   "cell_type": "code",
   "execution_count": 84,
   "metadata": {},
   "outputs": [
    {
     "name": "stdout",
     "output_type": "stream",
     "text": [
      "Вы пытаетесь трансформировать строку с буквами в число? Что правда?\n"
     ]
    }
   ],
   "source": [
    "# Давайте создадим ошибок!\n",
    "try:\n",
    "    int(\"Это просто невозможно\")\n",
    "except:\n",
    "    print(\"Вы пытаетесь трансформировать строку с буквами в число? Что правда?\")"
   ]
  },
  {
   "cell_type": "markdown",
   "metadata": {},
   "source": [
    "Как мы видим *try* пробует выполнить сценарий, что лежит в нём, а если не получается, то он (Python) выполняет сценарий из *except*"
   ]
  },
  {
   "cell_type": "code",
   "execution_count": 94,
   "metadata": {},
   "outputs": [
    {
     "name": "stdout",
     "output_type": "stream",
     "text": [
      "О, нет! IndexError из-за того, что индекс выходит за пределы списка\n"
     ]
    }
   ],
   "source": [
    "#Можно также обработать определённый тип ошибки\n",
    "try:\n",
    "    list = [0,1,2,3]\n",
    "    print(list[4])\n",
    "except IndexError:\n",
    "    print(\"О, нет! IndexError из-за того, что индекс выходит за пределы списка\")"
   ]
  },
  {
   "cell_type": "code",
   "execution_count": 96,
   "metadata": {},
   "outputs": [
    {
     "ename": "IndexError",
     "evalue": "list index out of range",
     "output_type": "error",
     "traceback": [
      "\u001b[0;31m---------------------------------------------------------------------------\u001b[0m",
      "\u001b[0;31mIndexError\u001b[0m                                Traceback (most recent call last)",
      "\u001b[0;32m<ipython-input-96-45262e3602e5>\u001b[0m in \u001b[0;36m<module>\u001b[0;34m()\u001b[0m\n\u001b[1;32m      1\u001b[0m \u001b[0;31m# Для убеждения\u001b[0m\u001b[0;34m\u001b[0m\u001b[0;34m\u001b[0m\u001b[0;34m\u001b[0m\u001b[0m\n\u001b[1;32m      2\u001b[0m \u001b[0mlist\u001b[0m \u001b[0;34m=\u001b[0m \u001b[0;34m[\u001b[0m\u001b[0;36m0\u001b[0m\u001b[0;34m,\u001b[0m\u001b[0;36m1\u001b[0m\u001b[0;34m,\u001b[0m\u001b[0;36m2\u001b[0m\u001b[0;34m,\u001b[0m\u001b[0;36m3\u001b[0m\u001b[0;34m]\u001b[0m\u001b[0;34m\u001b[0m\u001b[0;34m\u001b[0m\u001b[0m\n\u001b[0;32m----> 3\u001b[0;31m \u001b[0mprint\u001b[0m\u001b[0;34m(\u001b[0m\u001b[0mlist\u001b[0m\u001b[0;34m[\u001b[0m\u001b[0;36m4\u001b[0m\u001b[0;34m]\u001b[0m\u001b[0;34m)\u001b[0m\u001b[0;34m\u001b[0m\u001b[0;34m\u001b[0m\u001b[0m\n\u001b[0m",
      "\u001b[0;31mIndexError\u001b[0m: list index out of range"
     ]
    }
   ],
   "source": [
    "# Для убеждения\n",
    "list = [0,1,2,3]\n",
    "print(list[4])"
   ]
  },
  {
   "cell_type": "code",
   "execution_count": 100,
   "metadata": {},
   "outputs": [
    {
     "name": "stdout",
     "output_type": "stream",
     "text": [
      "list index out of range\n"
     ]
    }
   ],
   "source": [
    "#Через служебное as можно передать аргумент ошибки\n",
    "list = [0,1,2,3]\n",
    "try:\n",
    "    print(list[4])\n",
    "except IndexError as error1:\n",
    "    print(error1)"
   ]
  },
  {
   "cell_type": "code",
   "execution_count": 107,
   "metadata": {},
   "outputs": [
    {
     "name": "stdout",
     "output_type": "stream",
     "text": [
      "Введите число: 1\n",
      "Отлично, вы ввели число\n",
      "А этот блок выполнится вне зависимости того, выполнился ли try\n"
     ]
    }
   ],
   "source": [
    "# К этим двум блокам можно добавить блок else\n",
    "# Он выполнится только если блок try выполнится безошибочно\n",
    "try:\n",
    "    a = int(input(\"Введите число: \"))\n",
    "except:\n",
    "    print(\"Вы ввели не число\")\n",
    "else:\n",
    "    print(\"Отлично, вы ввели число\")\n",
    "print(\"А этот блок выполнится вне зависимости того, выполнился ли try\")"
   ]
  }
 ],
 "metadata": {
  "kernelspec": {
   "display_name": "Python 3",
   "language": "python",
   "name": "python3"
  },
  "language_info": {
   "codemirror_mode": {
    "name": "ipython",
    "version": 3
   },
   "file_extension": ".py",
   "mimetype": "text/x-python",
   "name": "python",
   "nbconvert_exporter": "python",
   "pygments_lexer": "ipython3",
   "version": "3.6.8"
  }
 },
 "nbformat": 4,
 "nbformat_minor": 2
}
